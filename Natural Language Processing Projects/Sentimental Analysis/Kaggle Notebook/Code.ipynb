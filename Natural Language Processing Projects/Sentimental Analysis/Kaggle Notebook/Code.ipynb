{
 "cells": [
  {
   "cell_type": "code",
   "execution_count": null,
   "metadata": {
    "execution": {
     "iopub.execute_input": "2025-05-12T12:38:20.709601Z",
     "iopub.status.busy": "2025-05-12T12:38:20.709305Z",
     "iopub.status.idle": "2025-05-12T12:38:25.874884Z",
     "shell.execute_reply": "2025-05-12T12:38:25.873605Z",
     "shell.execute_reply.started": "2025-05-12T12:38:20.709577Z"
    },
    "trusted": true
   },
   "outputs": [
    {
     "ename": "",
     "evalue": "",
     "output_type": "error",
     "traceback": [
      "\u001b[1;31mRunning cells with 'Python 3.12.4' requires the ipykernel package.\n",
      "\u001b[1;31m<a href='command:jupyter.createPythonEnvAndSelectController'>Create a Python Environment</a> with the required packages."
     ]
    }
   ],
   "source": [
    "import pandas as pd\n",
    "import re\n",
    "import ipywidgets as widgets\n",
    "from ipywidgets import interact, interactive, fixed, interact_manual, HBox, VBox\n",
    "from sklearn.model_selection import train_test_split\n",
    "from sklearn.feature_extraction.text import TfidfVectorizer\n",
    "from sklearn.naive_bayes import MultinomialNB\n",
    "from sklearn.linear_model import LogisticRegression\n",
    "from sklearn.svm import LinearSVC\n",
    "from sklearn.ensemble import RandomForestClassifier\n",
    "from sklearn.metrics import accuracy_score, classification_report\n",
    "from IPython.display import display\n",
    "from sklearn.metrics import accuracy_score\n"
   ]
  },
  {
   "cell_type": "code",
   "execution_count": null,
   "metadata": {
    "_cell_guid": "b1076dfc-b9ad-4769-8c92-a6c4dae69d19",
    "_uuid": "8f2839f25d086af736a60e9eeb907d3b93b6e0e5",
    "execution": {
     "iopub.execute_input": "2025-05-09T05:07:50.035326Z",
     "iopub.status.busy": "2025-05-09T05:07:50.035037Z",
     "iopub.status.idle": "2025-05-09T05:07:57.094190Z",
     "shell.execute_reply": "2025-05-09T05:07:57.093024Z",
     "shell.execute_reply.started": "2025-05-09T05:07:50.035305Z"
    },
    "trusted": true
   },
   "outputs": [],
   "source": [
    "!pip install ipywidgets"
   ]
  },
  {
   "cell_type": "code",
   "execution_count": null,
   "metadata": {
    "execution": {
     "iopub.execute_input": "2025-05-12T12:55:12.623358Z",
     "iopub.status.busy": "2025-05-12T12:55:12.623013Z",
     "iopub.status.idle": "2025-05-12T12:55:12.633087Z",
     "shell.execute_reply": "2025-05-12T12:55:12.632042Z",
     "shell.execute_reply.started": "2025-05-12T12:55:12.623326Z"
    },
    "trusted": true
   },
   "outputs": [],
   "source": [
    "# Custom Urdu-compatible tokenizer using regex\n",
    "def urdu_tokenizer(text):\n",
    "    tokens = re.findall(r'[\\u0600-\\u06FF]+|[a-zA-Z]+|\\d+|[^\\s\\w]', text)\n",
    "    return tokens\n",
    "\n",
    "# Function to train models\n",
    "def train_models():\n",
    "    # Load Excel file\n",
    "    df = pd.read_excel(\"C:\\python\\2022-CS-656(NLP Assignment)\\Datasets\\Final DataSet.xlsx\")\n",
    "    df.columns = ['Urdu Sentence', 'Sentiment']\n",
    "    df.dropna(inplace=True)\n",
    "\n",
    "    # Train-test split\n",
    "    X_train, X_test, y_train, y_test = train_test_split(df['Urdu Sentence'], df['Sentiment'], test_size=0.2, random_state=42)\n",
    "\n",
    "    # Urdu TF-IDF vectorization using the custom tokenizer\n",
    "    vectorizer = TfidfVectorizer(tokenizer=urdu_tokenizer,token_pattern=None, ngram_range=(1, 2), max_features=5000)\n",
    "    X_train_vec = vectorizer.fit_transform(X_train)\n",
    "    X_test_vec = vectorizer.transform(X_test)\n",
    "\n",
    "    # Define models\n",
    "    models = {\n",
    "        'Naive Bayes': MultinomialNB(),\n",
    "        'Logistic Regression': LogisticRegression(max_iter=1000),\n",
    "        'SVM': LinearSVC(),\n",
    "        'Random Forest': RandomForestClassifier(n_estimators=100)\n",
    "    }\n",
    "\n",
    "    # Store models for future use\n",
    "    trained_models = {}\n",
    "    \n",
    "    for name, model in models.items():\n",
    "        model.fit(X_train_vec, y_train)\n",
    "        trained_models[name] = model\n",
    "        \n",
    "    return trained_models, X_test_vec, y_test, vectorizer,X_test\n",
    "\n",
    "# Function to test models and display results\n",
    "def test_models(trained_models, X_test_vec, y_test, vectorizer):\n",
    "    for name, model in trained_models.items():\n",
    "        y_pred = model.predict(X_test_vec)\n",
    "        acc = accuracy_score(y_test, y_pred)\n",
    "        print(f\"\\n📊 Model: {name}\")\n",
    "        print(f\"✅ Accuracy: {acc:.4f}\")\n",
    "        print(classification_report(y_test, y_pred))\n"
   ]
  },
  {
   "cell_type": "code",
   "execution_count": null,
   "metadata": {
    "execution": {
     "iopub.execute_input": "2025-05-12T12:55:17.963897Z",
     "iopub.status.busy": "2025-05-12T12:55:17.963404Z",
     "iopub.status.idle": "2025-05-12T12:55:17.988212Z",
     "shell.execute_reply": "2025-05-12T12:55:17.987160Z",
     "shell.execute_reply.started": "2025-05-12T12:55:17.963871Z"
    },
    "trusted": true
   },
   "outputs": [],
   "source": [
    "# Create button for training\n",
    "train_button = widgets.Button(description=\"Train\")\n",
    "output_train = widgets.Output()\n",
    "\n",
    "# Create button for testing\n",
    "test_button = widgets.Button(description=\"Test\")\n",
    "output_test = widgets.Output()\n",
    "\n",
    "# Define train button behavior\n",
    "def on_train_button_click(b):\n",
    "    with output_train:\n",
    "        print(\"Training models...\")\n",
    "        trained_models, X_test_vec, y_test, vectorizer, X_test = train_models()\n",
    "        print(\"Models trained successfully!\")\n",
    "        # Enable the test button after training\n",
    "        test_button.disabled = False\n",
    "        # Save models and vectorizer for testing\n",
    "        globals()['trained_models'] = trained_models\n",
    "        globals()['X_test_vec'] = X_test_vec\n",
    "        globals()['y_test'] = y_test\n",
    "        globals()['vectorizer'] = vectorizer\n",
    "        globals()['X_test'] = X_test \n",
    "\n",
    "train_button.on_click(on_train_button_click)\n",
    "\n",
    "\n",
    "def on_test_button_click(b):\n",
    "    with output_test:\n",
    "        print(\"Testing models...\\n\")\n",
    "        \n",
    "        # Step 1: Keep the original evaluation output\n",
    "        test_models(trained_models, X_test_vec, y_test, vectorizer)\n",
    "\n",
    "        # Step 2: Identify the best model and save predictions\n",
    "        best_accuracy = 0\n",
    "        best_model_name = None\n",
    "        best_predictions = None\n",
    "\n",
    "        for name, model in trained_models.items():\n",
    "            y_pred = model.predict(X_test_vec)\n",
    "            acc = accuracy_score(y_test, y_pred)\n",
    "            if acc > best_accuracy:\n",
    "                best_accuracy = acc\n",
    "                best_model_name = name\n",
    "                best_predictions = y_pred\n",
    "\n",
    "        # Step 3: Generate Excel file\n",
    "        output_df = pd.DataFrame({\n",
    "            'Urdu Sentence': X_test.reset_index(drop=True),\n",
    "            'Actual Sentiment': y_test.reset_index(drop=True),\n",
    "            'Predicted Sentiment': best_predictions\n",
    "        })\n",
    "\n",
    "        output_filename = 'Sentiment_Predictions.xlsx'\n",
    "        output_df.to_excel(output_filename, index=False)\n",
    "\n",
    "               # Step 4: Show result\n",
    "        print(f\"\\n✅ Best Model: {best_model_name} (Accuracy: {best_accuracy:.4f})\")\n",
    "        print(f\"📁 Excel file '{output_filename}' generated with predictions.\")\n",
    "        display(output_df.head(10))  # Optional: preview first 10 rows\n",
    "\n",
    "        # Step 5: Show correct/incorrect counts\n",
    "        correct = (y_test.reset_index(drop=True) == best_predictions).sum()\n",
    "        incorrect = len(y_test) - correct\n",
    "        print(f\"\\n✔️ Total Correct Predictions: {correct}\")\n",
    "        print(f\"❌ Total Incorrect Predictions: {incorrect}\")\n",
    "\n",
    "\n",
    "test_button.on_click(on_test_button_click)\n",
    "\n",
    "# Display buttons and outputs\n",
    "VBox([train_button, output_train, test_button, output_test])"
   ]
  }
 ],
 "metadata": {
  "kaggle": {
   "accelerator": "none",
   "dataSources": [
    {
     "datasetId": 7370990,
     "sourceId": 11741935,
     "sourceType": "datasetVersion"
    }
   ],
   "dockerImageVersionId": 31012,
   "isGpuEnabled": false,
   "isInternetEnabled": false,
   "language": "python",
   "sourceType": "notebook"
  },
  "kernelspec": {
   "display_name": "Python 3",
   "language": "python",
   "name": "python3"
  },
  "language_info": {
   "codemirror_mode": {
    "name": "ipython",
    "version": 3
   },
   "file_extension": ".py",
   "mimetype": "text/x-python",
   "name": "python",
   "nbconvert_exporter": "python",
   "pygments_lexer": "ipython3",
   "version": "3.12.4"
  }
 },
 "nbformat": 4,
 "nbformat_minor": 4
}
